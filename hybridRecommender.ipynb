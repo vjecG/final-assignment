{
  "nbformat": 4,
  "nbformat_minor": 0,
  "metadata": {
    "colab": {
      "provenance": []
    },
    "kernelspec": {
      "name": "python3",
      "display_name": "Python 3"
    },
    "language_info": {
      "name": "python"
    }
  },
  "cells": [
    {
      "cell_type": "code",
      "source": [
        "# 1. Prvo obrišite sve postojeće instalacije\n",
        "!pip uninstall numpy scikit-surprise -y\n",
        "\n",
        "# 2. Instalirajte osnovne zavisnosti\n",
        "!pip install \"numpy>=1.26.0,<2.0.0\" \"scipy>=1.11.0\" \"joblib>=1.2.0\"\n",
        "\n",
        "# 3. Instalirajte surprise sa izbegavanjem konflikata\n",
        "!pip install scikit-surprise --no-deps --ignore-installed\n",
        "\n",
        "# 4. Restartujte runtime\n",
        "from IPython.display import Javascript\n",
        "Javascript('IPython.notebook.kernel.restart()')\n",
        "\n",
        "# Nakon restarta, pokrenite:\n",
        "import numpy as np\n",
        "from surprise import Dataset, Reader, KNNWithMeans\n",
        "print(\"Uspešna instalacija! Numpy verzija:\", np.__version__)"
      ],
      "metadata": {
        "colab": {
          "base_uri": "https://localhost:8080/",
          "height": 584
        },
        "id": "izd5DdYZfXaE",
        "outputId": "9f30fbb1-08e8-452d-fefe-12c5465ae921"
      },
      "execution_count": null,
      "outputs": [
        {
          "output_type": "stream",
          "name": "stdout",
          "text": [
            "Found existing installation: numpy 1.26.4\n",
            "Uninstalling numpy-1.26.4:\n",
            "  Successfully uninstalled numpy-1.26.4\n",
            "\u001b[33mWARNING: Skipping scikit-surprise as it is not installed.\u001b[0m\u001b[33m\n",
            "\u001b[0mCollecting numpy<2.0.0,>=1.26.0\n",
            "  Using cached numpy-1.26.4-cp311-cp311-manylinux_2_17_x86_64.manylinux2014_x86_64.whl.metadata (61 kB)\n",
            "Requirement already satisfied: scipy>=1.11.0 in /usr/local/lib/python3.11/dist-packages (1.15.3)\n",
            "Requirement already satisfied: joblib>=1.2.0 in /usr/local/lib/python3.11/dist-packages (1.5.1)\n",
            "Using cached numpy-1.26.4-cp311-cp311-manylinux_2_17_x86_64.manylinux2014_x86_64.whl (18.3 MB)\n",
            "Installing collected packages: numpy\n",
            "\u001b[31mERROR: pip's dependency resolver does not currently take into account all the packages that are installed. This behaviour is the source of the following dependency conflicts.\n",
            "thinc 8.3.6 requires numpy<3.0.0,>=2.0.0, but you have numpy 1.26.4 which is incompatible.\u001b[0m\u001b[31m\n",
            "\u001b[0mSuccessfully installed numpy-1.26.4\n"
          ]
        },
        {
          "output_type": "display_data",
          "data": {
            "application/vnd.colab-display-data+json": {
              "pip_warning": {
                "packages": [
                  "numpy"
                ]
              },
              "id": "1c93af1c5efc444c9af24b35b1acce23"
            }
          },
          "metadata": {}
        },
        {
          "output_type": "stream",
          "name": "stdout",
          "text": [
            "Collecting scikit-surprise\n",
            "  Using cached scikit_surprise-1.1.4.tar.gz (154 kB)\n",
            "  Installing build dependencies ... \u001b[?25l\u001b[?25hdone\n",
            "  Getting requirements to build wheel ... \u001b[?25l\u001b[?25hdone\n",
            "  Preparing metadata (pyproject.toml) ... \u001b[?25l\u001b[?25hdone\n",
            "Building wheels for collected packages: scikit-surprise\n",
            "  Building wheel for scikit-surprise (pyproject.toml) ... \u001b[?25l\u001b[?25hdone\n",
            "  Created wheel for scikit-surprise: filename=scikit_surprise-1.1.4-cp311-cp311-linux_x86_64.whl size=2469561 sha256=c6ce7322f058933852ac051228c83d01e65181fc4b30f279e3899bdc7099e6be\n",
            "  Stored in directory: /root/.cache/pip/wheels/2a/8f/6e/7e2899163e2d85d8266daab4aa1cdabec7a6c56f83c015b5af\n",
            "Successfully built scikit-surprise\n",
            "Installing collected packages: scikit-surprise\n",
            "Successfully installed scikit-surprise-1.1.4\n",
            "Uspešna instalacija! Numpy verzija: 1.26.4\n"
          ]
        }
      ]
    },
    {
      "cell_type": "code",
      "source": [
        "\n",
        "import pandas as pd\n",
        "import numpy as np\n",
        "from collections import defaultdict\n",
        "from sklearn.preprocessing import MinMaxScaler\n",
        "from surprise import Dataset, Reader, KNNWithMeans\n",
        "from sklearn.feature_extraction.text import TfidfVectorizer\n",
        "from sklearn.metrics.pairwise import cosine_similarity\n",
        "from scipy.sparse import csr_matrix\n",
        "from tqdm import tqdm"
      ],
      "metadata": {
        "id": "UTwdinsrdgZl"
      },
      "execution_count": null,
      "outputs": []
    },
    {
      "cell_type": "markdown",
      "source": [
        "# Hibridni sustav za preporuku glazbe (kombinira CF + CBF)"
      ],
      "metadata": {
        "id": "4LNmzvIzZoK5"
      }
    },
    {
      "cell_type": "markdown",
      "source": [
        "## 1. CF\n",
        "\n"
      ],
      "metadata": {
        "id": "oFoKO-uzZipi"
      }
    },
    {
      "cell_type": "code",
      "source": [
        "# Ucitaj CF podatke\n",
        "cf_df = pd.read_csv(\"user_artists.dat\", sep=\"\\t\")\n",
        "cf_df.columns = [\"user_id\", \"artist_id\", \"plays\"]\n",
        "cf_df[\"log_plays\"] = np.log1p(cf_df[\"plays\"])\n",
        "scaler = MinMaxScaler(feature_range=(1, 5))\n",
        "cf_df[\"rating\"] = scaler.fit_transform(cf_df[[\"log_plays\"]])\n",
        "\n",
        "# Filtriraj neaktivne korisnike\n",
        "user_counts = cf_df[\"user_id\"].value_counts()\n",
        "cf_df = cf_df[cf_df[\"user_id\"].isin(user_counts[user_counts >= 5].index)]"
      ],
      "metadata": {
        "id": "VmDSiFniZkhw"
      },
      "execution_count": 16,
      "outputs": []
    },
    {
      "cell_type": "markdown",
      "source": [
        "## 1.1 Train and test split"
      ],
      "metadata": {
        "id": "hlAA2RKfZvLe"
      }
    },
    {
      "cell_type": "code",
      "source": [
        "cf_train, cf_test = [], []\n",
        "for user in cf_df[\"user_id\"].unique():\n",
        "    user_data = cf_df[cf_df[\"user_id\"] == user]\n",
        "    n_test = max(1, int(len(user_data) * 0.35))\n",
        "    test = user_data.sample(n=n_test, random_state=42)\n",
        "    train = user_data.drop(test.index)\n",
        "    cf_train.append(train)\n",
        "    cf_test.append(test)\n",
        "cf_train = pd.concat(cf_train).reset_index(drop=True)\n",
        "cf_test = pd.concat(cf_test).reset_index(drop=True)"
      ],
      "metadata": {
        "id": "3fx8GgeeZ3Rg"
      },
      "execution_count": 17,
      "outputs": []
    },
    {
      "cell_type": "markdown",
      "source": [
        "## 1.2 Surprise CF model"
      ],
      "metadata": {
        "id": "6-dFIddRZ4L_"
      }
    },
    {
      "cell_type": "code",
      "source": [
        "# Surprise CF model\n",
        "reader = Reader(rating_scale=(1, 5))\n",
        "train_data = Dataset.load_from_df(cf_train[[\"user_id\", \"artist_id\", \"rating\"]].astype(str), reader)\n",
        "trainset = train_data.build_full_trainset()\n",
        "cf_model = KNNWithMeans(k=50, sim_options={\"name\": \"pearson\", \"user_based\": False})\n",
        "cf_model.fit(trainset)\n"
      ],
      "metadata": {
        "colab": {
          "base_uri": "https://localhost:8080/"
        },
        "id": "wC6Cch2LZ7p_",
        "outputId": "5df740d4-dc6e-4f12-d0a2-9c54ff4fe72c"
      },
      "execution_count": 18,
      "outputs": [
        {
          "output_type": "stream",
          "name": "stdout",
          "text": [
            "Computing the pearson similarity matrix...\n",
            "Done computing similarity matrix.\n"
          ]
        },
        {
          "output_type": "execute_result",
          "data": {
            "text/plain": [
              "<surprise.prediction_algorithms.knns.KNNWithMeans at 0x788e2e83ba90>"
            ]
          },
          "metadata": {},
          "execution_count": 18
        }
      ]
    },
    {
      "cell_type": "markdown",
      "source": [
        "## 2. CBF"
      ],
      "metadata": {
        "id": "YKOwrLMrZ_Q0"
      }
    },
    {
      "cell_type": "code",
      "source": [
        "cb_df = pd.read_csv(\"user_taggedartists.dat\", sep=\"\\t\")\n",
        "cb_df.columns = [\"user_id\", \"artist_id\", \"tag_id\", \"day\", \"month\", \"year\"]\n",
        "artist_tags = cb_df.groupby(\"artist_id\")[\"tag_id\"].apply(lambda x: \" \".join(map(str, x))).reset_index()\n"
      ],
      "metadata": {
        "id": "0ZaKOoZwaDNd"
      },
      "execution_count": 19,
      "outputs": []
    },
    {
      "cell_type": "markdown",
      "source": [
        "## 2.1 TF-IDF"
      ],
      "metadata": {
        "id": "qba6D5e0aFLg"
      }
    },
    {
      "cell_type": "code",
      "source": [
        "\n",
        "# TF-IDF i cosine similarity\n",
        "tfidf = TfidfVectorizer(\n",
        "    min_df=3,               # Manji prag za rijetke tagove\n",
        "    max_df=0.85,            # Stroži filter za česte tagove\n",
        "    ngram_range=(1, 3),     # Uključuje i trojke tagova\n",
        "    stop_words=\"english\"    # Uklanjanje stop reči\n",
        ")\n",
        "tag_matrix = tfidf.fit_transform(artist_tags[\"tag_id\"])\n",
        "tag_similarity = cosine_similarity(tag_matrix)\n",
        "\n",
        "# Mape ID-eva\n",
        "artist_id_to_idx = {aid: idx for idx, aid in enumerate(artist_tags[\"artist_id\"])}\n",
        "idx_to_artist_id = {idx: aid for aid, idx in artist_id_to_idx.items()}\n"
      ],
      "metadata": {
        "id": "SxkwfTtbaG9q"
      },
      "execution_count": 21,
      "outputs": []
    },
    {
      "cell_type": "markdown",
      "source": [
        "## 3. Hybrid"
      ],
      "metadata": {
        "id": "LPRTyGN7aL6b"
      }
    },
    {
      "cell_type": "code",
      "source": [
        "def hybrid_score(user_id, artist_id, alpha=0.5):\n",
        "    user_id_str = str(user_id)\n",
        "    artist_id_str = str(artist_id)\n",
        "\n",
        "    try:\n",
        "        cf_pred = cf_model.predict(user_id_str, artist_id_str).est\n",
        "    except:\n",
        "        cf_pred = 0\n",
        "\n",
        "    cb_score = 0\n",
        "    listened = cf_train[cf_train[\"user_id\"] == int(user_id)][\"artist_id\"].unique()\n",
        "    listened_idxs = [artist_id_to_idx[aid] for aid in listened if aid in artist_id_to_idx]\n",
        "    target_idx = artist_id_to_idx.get(int(artist_id))\n",
        "    if target_idx is not None and listened_idxs:\n",
        "        cb_score = tag_similarity[listened_idxs, target_idx].mean()\n",
        "\n",
        "    return alpha * cf_pred + (1 - alpha) * cb_score\n"
      ],
      "metadata": {
        "id": "YkqE3xtmaO-6"
      },
      "execution_count": 22,
      "outputs": []
    },
    {
      "cell_type": "markdown",
      "source": [
        "## 4. Evaluacija"
      ],
      "metadata": {
        "id": "ZJa_W_jdaQGu"
      }
    },
    {
      "cell_type": "code",
      "source": [
        "def precision_at_k_hybrid(k=10, alpha=0.5, threshold=3):\n",
        "    user_est_true = defaultdict(list)\n",
        "    for row in cf_test.itertuples():\n",
        "        pred_score = hybrid_score(row.user_id, row.artist_id, alpha)\n",
        "        user_est_true[row.user_id].append((pred_score, row.rating))\n",
        "\n",
        "    precisions = []\n",
        "    for uid, user_ratings in user_est_true.items():\n",
        "        user_ratings.sort(key=lambda x: x[0], reverse=True)\n",
        "        n_rel = sum(true_r >= threshold for _, true_r in user_ratings[:k])\n",
        "        precisions.append(n_rel / k)\n",
        "\n",
        "    return np.mean(precisions)\n",
        "\n",
        "def recall_at_k_hybrid(k=10, alpha=0.5, threshold=3):\n",
        "    user_est_true = defaultdict(list)\n",
        "    for row in cf_test.itertuples():\n",
        "        pred_score = hybrid_score(row.user_id, row.artist_id, alpha)\n",
        "        user_est_true[row.user_id].append((pred_score, row.rating))\n",
        "\n",
        "    recalls = []\n",
        "    for uid, user_ratings in user_est_true.items():\n",
        "        n_rel_total = sum(true_r >= threshold for _, true_r in user_ratings)\n",
        "        if n_rel_total == 0:\n",
        "            continue\n",
        "        user_ratings.sort(key=lambda x: x[0], reverse=True)\n",
        "        n_rel_at_k = sum(true_r >= threshold for _, true_r in user_ratings[:k])\n",
        "        recalls.append(n_rel_at_k / n_rel_total)\n",
        "\n",
        "    return np.mean(recalls)"
      ],
      "metadata": {
        "id": "0AlLgjh9aSDF"
      },
      "execution_count": 23,
      "outputs": []
    },
    {
      "cell_type": "markdown",
      "source": [
        "## 5. Pokretanje evaluacije"
      ],
      "metadata": {
        "id": "QtHqxHPOaWfA"
      }
    },
    {
      "cell_type": "code",
      "execution_count": 24,
      "metadata": {
        "colab": {
          "base_uri": "https://localhost:8080/"
        },
        "id": "YW4YXusndUkC",
        "outputId": "24fe4da9-7ae7-4c2f-9ce2-cb2e898a5871"
      },
      "outputs": [
        {
          "output_type": "stream",
          "name": "stdout",
          "text": [
            "\n",
            "Hybrid model (alpha=0.3) — k=5\n",
            "Precision@5: 0.2566\n",
            "Recall@5:    0.4856\n",
            "\n",
            "Hybrid model (alpha=0.3) — k=10\n",
            "Precision@10: 0.2177\n",
            "Recall@10:    0.7648\n"
          ]
        }
      ],
      "source": [
        "for k in [5, 10]:\n",
        "    p = precision_at_k_hybrid(k=k, alpha=0.3)\n",
        "    r = recall_at_k_hybrid(k=k, alpha=0.3)\n",
        "    print(f\"\\nHybrid model (alpha=0.3) — k={k}\")\n",
        "    print(f\"Precision@{k}: {p:.4f}\")\n",
        "    print(f\"Recall@{k}:    {r:.4f}\")\n",
        "\n"
      ]
    },
    {
      "cell_type": "code",
      "source": [],
      "metadata": {
        "id": "ejd4j34udXta"
      },
      "execution_count": null,
      "outputs": []
    }
  ]
}