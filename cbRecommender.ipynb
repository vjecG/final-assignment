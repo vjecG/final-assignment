{
  "nbformat": 4,
  "nbformat_minor": 0,
  "metadata": {
    "colab": {
      "provenance": []
    },
    "kernelspec": {
      "name": "python3",
      "display_name": "Python 3"
    },
    "language_info": {
      "name": "python"
    }
  },
  "cells": [
    {
      "cell_type": "markdown",
      "source": [
        "## Učitavanje potrebnih libraryja"
      ],
      "metadata": {
        "id": "PVUBNfgiY0Bq"
      }
    },
    {
      "cell_type": "code",
      "source": [
        "import pandas as pd\n",
        "import numpy as np\n",
        "from sklearn.feature_extraction.text import TfidfVectorizer\n",
        "from sklearn.metrics.pairwise import cosine_similarity\n",
        "from tqdm import tqdm\n",
        "from scipy.sparse import csr_matrix"
      ],
      "metadata": {
        "id": "GeUv2aF0Y5yR"
      },
      "execution_count": 1,
      "outputs": []
    },
    {
      "cell_type": "markdown",
      "source": [
        "# 1. Učitavanje i priprema podataka"
      ],
      "metadata": {
        "id": "d5c4VS8gZA7w"
      }
    },
    {
      "cell_type": "markdown",
      "source": [
        "## Učitaj podatke"
      ],
      "metadata": {
        "id": "WYE-b4z_ZFP4"
      }
    },
    {
      "cell_type": "code",
      "source": [
        "df = pd.read_csv(\"user_taggedartists.dat\", sep=\"\\t\")\n",
        "df.columns = [\"user_id\", \"artist_id\", \"tag_id\", \"day\", \"month\", \"year\"]"
      ],
      "metadata": {
        "id": "ywhUa58WZG-X"
      },
      "execution_count": 2,
      "outputs": []
    },
    {
      "cell_type": "markdown",
      "source": [
        "## Priprema tagova - grupiraj tagove po izvođaču"
      ],
      "metadata": {
        "id": "uAvE5o_aZJZ_"
      }
    },
    {
      "cell_type": "code",
      "source": [
        "artist_tags = df.groupby('artist_id')['tag_id'].apply(lambda x: ' '.join(map(str, x))).reset_index()"
      ],
      "metadata": {
        "id": "npbf9h5SZPBP"
      },
      "execution_count": 3,
      "outputs": []
    },
    {
      "cell_type": "markdown",
      "source": [
        "## Filtriranje i transformacija"
      ],
      "metadata": {
        "id": "l2FXAR3BZRLT"
      }
    },
    {
      "cell_type": "code",
      "source": [
        "MIN_TAG_COUNT = 5  # Ukloni tagove s manje od 5 pojavljivanja\n",
        "tag_counts = df['tag_id'].value_counts()\n",
        "valid_tags = tag_counts[tag_counts >= MIN_TAG_COUNT].index\n",
        "df = df[df['tag_id'].isin(valid_tags)]\n",
        "\n",
        "MIN_ARTIST_TAGS = 3  # Ukloni izvođače s manje od 3 tagova\n",
        "artist_tag_counts = df['artist_id'].value_counts()\n",
        "valid_artists = artist_tag_counts[artist_tag_counts >= MIN_ARTIST_TAGS].index\n",
        "df = df[df['artist_id'].isin(valid_artists)]"
      ],
      "metadata": {
        "id": "ehD76dAeZY4l"
      },
      "execution_count": 4,
      "outputs": []
    },
    {
      "cell_type": "markdown",
      "source": [
        "# 2. TF-IDF transformacija tagova"
      ],
      "metadata": {
        "id": "iF0tiZIvZeA2"
      }
    },
    {
      "cell_type": "code",
      "source": [
        "tfidf = TfidfVectorizer(\n",
        "    min_df=5,               # Ignoriraj tagove s manje od 5 dokumenata\n",
        "    max_df=0.90,            # Ignoriraj tagove prisutne u >85% izvođača\n",
        "    ngram_range=(1, 2)      # Uključi i kombinacije od 2 tagova\n",
        ")\n",
        "tag_matrix = tfidf.fit_transform(artist_tags['tag_id'])\n",
        "\n",
        "# Mape za pretvorbu ID-jeva\n",
        "artist_id_to_idx = {aid: idx for idx, aid in enumerate(artist_tags['artist_id'])}\n",
        "idx_to_artist_id = {idx: aid for aid, idx in artist_id_to_idx.items()}\n",
        "\n",
        "# Matrica sličnosti temeljena na tagovima (spremamo kao rijetku matricu)\n",
        "tag_similarity = cosine_similarity(tag_matrix)\n",
        "tag_similarity = csr_matrix(tag_similarity)"
      ],
      "metadata": {
        "id": "bHStesvjZkK4"
      },
      "execution_count": 5,
      "outputs": []
    },
    {
      "cell_type": "markdown",
      "source": [
        "# 3. Preporučivanje"
      ],
      "metadata": {
        "id": "GFD7ZBPAZy5R"
      }
    },
    {
      "cell_type": "markdown",
      "source": [
        "## 3.1 Funkcija za traženje preporuke"
      ],
      "metadata": {
        "id": "fF9J4REVasPh"
      }
    },
    {
      "cell_type": "code",
      "source": [
        "def get_tag_based_recommendations(user_id, train_df, top_n=10):\n",
        "    # Dohvati sve izvođače koje je korisnik slušao\n",
        "    listened_artists = train_df[train_df[\"user_id\"] == user_id][\"artist_id\"].unique()\n",
        "    listened_indices = [artist_id_to_idx[aid] for aid in listened_artists if aid in artist_id_to_idx]\n",
        "\n",
        "    if not listened_indices:\n",
        "        return []\n",
        "\n",
        "    # Pretvori u numpy array zbog brzine\n",
        "    listened_indices = np.array(listened_indices)\n",
        "\n",
        "    # Izračunaj prosječnu sličnost sa svim izvođačima\n",
        "    sim_scores = tag_similarity[listened_indices].mean(axis=0).A1  # .A1 pretvara u 1D numpy array\n",
        "\n",
        "    # Postavi sličnost za već slušane izvođače na -inf\n",
        "    sim_scores[listened_indices] = -np.inf\n",
        "\n",
        "    # Dohvati top N preporuka\n",
        "    top_indices = np.argpartition(sim_scores, -top_n)[-top_n:]\n",
        "    top_indices = top_indices[np.argsort(sim_scores[top_indices])[::-1]]\n",
        "\n",
        "    return [(idx_to_artist_id[idx], sim_scores[idx]) for idx in top_indices]"
      ],
      "metadata": {
        "id": "4csIJZsOZ3f5"
      },
      "execution_count": 6,
      "outputs": []
    },
    {
      "cell_type": "markdown",
      "source": [
        "## 3.2 Priprema podataka za evaluaciju"
      ],
      "metadata": {
        "id": "RcRwU3BQajkv"
      }
    },
    {
      "cell_type": "code",
      "source": [
        "df_unique = df[[\"user_id\", \"artist_id\"]].drop_duplicates()\n",
        "user_counts = df_unique[\"user_id\"].value_counts()\n",
        "df_unique = df_unique[df_unique[\"user_id\"].isin(user_counts[user_counts >= 10].index)]"
      ],
      "metadata": {
        "id": "M1FYmZRcaoJD"
      },
      "execution_count": 7,
      "outputs": []
    },
    {
      "cell_type": "markdown",
      "source": [
        "## 3.3 Odvajanje skupa za treniranje i testiranje"
      ],
      "metadata": {
        "id": "aKypukCRbCcQ"
      }
    },
    {
      "cell_type": "code",
      "source": [
        "def per_user_split_cb(df, test_frac=0.35):\n",
        "    train, test = [], []\n",
        "    for user_id in df[\"user_id\"].unique():\n",
        "        user_data = df[df[\"user_id\"] == user_id]\n",
        "        n_test = max(1, int(len(user_data) * test_frac))\n",
        "        test_data = user_data.sample(n=n_test, random_state=42)\n",
        "        train_data = user_data.drop(test_data.index)\n",
        "        train.append(train_data)\n",
        "        test.append(test_data)\n",
        "    return pd.concat(train).reset_index(drop=True), pd.concat(test).reset_index(drop=True)\n",
        "\n",
        "train_cb, test_cb = per_user_split_cb(df_unique)\n"
      ],
      "metadata": {
        "id": "KWzIPbXNbIMu"
      },
      "execution_count": 8,
      "outputs": []
    },
    {
      "cell_type": "markdown",
      "source": [
        "## 3.4 Funkcija za računanje precizosti za k"
      ],
      "metadata": {
        "id": "tgqbNx4dbJlP"
      }
    },
    {
      "cell_type": "code",
      "source": [
        "def precision_at_k_cb(train_df, test_df, k=10):\n",
        "    precisions = []\n",
        "    user_ids = test_df[\"user_id\"].unique()\n",
        "    for user_id in tqdm(user_ids, desc=\"Evaluating Tag-Based Recommendations\"):\n",
        "        true_artists = set(test_df[test_df[\"user_id\"] == user_id][\"artist_id\"].astype(int))\n",
        "        recs = get_tag_based_recommendations(user_id, train_df, top_n=k)\n",
        "        recommended_artists = [aid for aid, _ in recs]\n",
        "\n",
        "        if not recommended_artists:\n",
        "            continue\n",
        "\n",
        "        n_rel = sum(artist in true_artists for artist in recommended_artists)\n",
        "        precision = n_rel / k\n",
        "        precisions.append(precision)\n",
        "\n",
        "    return np.mean(precisions)"
      ],
      "metadata": {
        "id": "PENnuTFQbXfo"
      },
      "execution_count": 9,
      "outputs": []
    },
    {
      "cell_type": "markdown",
      "source": [
        "## 3.5 Recalll"
      ],
      "metadata": {
        "id": "YXSa3j_HYnOp"
      }
    },
    {
      "cell_type": "code",
      "source": [
        "def recall_at_k_cb(train_df, test_df, k=10):\n",
        "    recalls = []\n",
        "    user_ids = test_df[\"user_id\"].unique()\n",
        "\n",
        "    for user_id in tqdm(user_ids, desc=\"Evaluating Recall\"):\n",
        "        true_artists = set(test_df[test_df[\"user_id\"] == user_id][\"artist_id\"].astype(int))\n",
        "        if not true_artists:\n",
        "            continue\n",
        "\n",
        "        recs = get_tag_based_recommendations(user_id, train_df, top_n=k)\n",
        "        recommended_artists = [aid for aid, _ in recs]\n",
        "\n",
        "        n_rel = sum(artist in true_artists for artist in recommended_artists)\n",
        "        recall = n_rel / len(true_artists)\n",
        "        recalls.append(recall)\n",
        "\n",
        "    return np.mean(recalls)"
      ],
      "metadata": {
        "id": "Ms5SNJKYYjUU"
      },
      "execution_count": 11,
      "outputs": []
    },
    {
      "cell_type": "markdown",
      "source": [
        "## 4. Evoluacija"
      ],
      "metadata": {
        "id": "hR9EOz6qY38q"
      }
    },
    {
      "cell_type": "code",
      "source": [
        "def evaluate_model(train_df, test_df, k_values=[5, 10]):\n",
        "    results = {}\n",
        "\n",
        "    for k in k_values:\n",
        "        print(f\"\\nEvaluating for k={k}...\")\n",
        "        precision = precision_at_k_cb(train_df, test_df, k=k)\n",
        "        recall = recall_at_k_cb(train_df, test_df, k=k)\n",
        "\n",
        "        results[f'P@{k}'] = precision\n",
        "        results[f'R@{k}'] = recall\n",
        "\n",
        "        print(f\"Precision@{k}: {precision:.4f}\")\n",
        "        print(f\"Recall@{k}: {recall:.4f}\")\n",
        "\n",
        "    return results\n",
        "\n",
        "# Pokreni evaluaciju\n",
        "results = evaluate_model(train_cb, test_cb)"
      ],
      "metadata": {
        "colab": {
          "base_uri": "https://localhost:8080/"
        },
        "id": "Smu_6pW6oRfL",
        "outputId": "e98413a8-59a8-4384-f41b-579f48b66f2d"
      },
      "execution_count": 12,
      "outputs": [
        {
          "output_type": "stream",
          "name": "stdout",
          "text": [
            "\n",
            "Evaluating for k=5...\n"
          ]
        },
        {
          "output_type": "stream",
          "name": "stderr",
          "text": [
            "Evaluating Tag-Based Recommendations: 100%|██████████| 798/798 [00:03<00:00, 209.44it/s]\n",
            "Evaluating Recall: 100%|██████████| 798/798 [00:04<00:00, 183.59it/s]\n"
          ]
        },
        {
          "output_type": "stream",
          "name": "stdout",
          "text": [
            "Precision@5: 0.2376\n",
            "Recall@5: 0.0772\n",
            "\n",
            "Evaluating for k=10...\n"
          ]
        },
        {
          "output_type": "stream",
          "name": "stderr",
          "text": [
            "Evaluating Tag-Based Recommendations: 100%|██████████| 798/798 [00:05<00:00, 147.21it/s]\n",
            "Evaluating Recall: 100%|██████████| 798/798 [00:03<00:00, 241.32it/s]"
          ]
        },
        {
          "output_type": "stream",
          "name": "stdout",
          "text": [
            "Precision@10: 0.1914\n",
            "Recall@10: 0.1168\n"
          ]
        },
        {
          "output_type": "stream",
          "name": "stderr",
          "text": [
            "\n"
          ]
        }
      ]
    }
  ]
}