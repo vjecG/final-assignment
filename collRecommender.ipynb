{
  "nbformat": 4,
  "nbformat_minor": 0,
  "metadata": {
    "colab": {
      "provenance": []
    },
    "kernelspec": {
      "name": "python3",
      "display_name": "Python 3"
    },
    "language_info": {
      "name": "python"
    }
  },
  "cells": [
    {
      "cell_type": "markdown",
      "source": [
        "## Učitaj potrebne libraryje"
      ],
      "metadata": {
        "id": "tefdZAUKZADL"
      }
    },
    {
      "cell_type": "code",
      "execution_count": 31,
      "metadata": {
        "id": "WwuTUfoYb2ey"
      },
      "outputs": [],
      "source": [
        "import pandas as pd\n",
        "import numpy as np\n",
        "\n",
        "from sklearn.model_selection import train_test_split\n",
        "from sklearn.preprocessing import MinMaxScaler\n",
        "\n",
        "from surprise import Dataset, Reader, KNNBasic\n",
        "from surprise.model_selection import train_test_split\n",
        "from surprise import accuracy\n",
        "from surprise import SVD, Dataset, Reader, accuracy\n",
        "from surprise import KNNWithMeans\n",
        "\n",
        "from collections import defaultdict\n"
      ]
    },
    {
      "cell_type": "markdown",
      "source": [
        "# 1. Učitavanje i priprema podataka"
      ],
      "metadata": {
        "id": "E2EQF-kKZY4-"
      }
    },
    {
      "cell_type": "markdown",
      "source": [
        "### Učitaj podatke"
      ],
      "metadata": {
        "id": "JnS0OL-Nf6LR"
      }
    },
    {
      "cell_type": "code",
      "source": [
        "# Load and prepare data\n",
        "dataset_cf = pd.read_csv('user_artists.dat', sep='\\t')\n",
        "dataset_cf.columns = ['user_id', 'artist_id', 'plays']"
      ],
      "metadata": {
        "id": "xJxALIHxtCvz"
      },
      "execution_count": 32,
      "outputs": []
    },
    {
      "cell_type": "markdown",
      "source": [
        "### Transformacije podataka"
      ],
      "metadata": {
        "id": "IjjQD0bHZKw1"
      }
    },
    {
      "cell_type": "code",
      "source": [
        "# 1. Log transformation\n",
        "dataset_cf[\"log_plays\"] = np.log1p(dataset_cf[\"plays\"])\n",
        "\n",
        "# 2. Scale to 1-5 range\n",
        "scaler = MinMaxScaler(feature_range=(1, 5))\n",
        "dataset_cf[\"rating\"] = scaler.fit_transform(dataset_cf[[\"log_plays\"]])\n",
        "\n",
        "# 3. Filter inactive users\n",
        "user_counts = dataset_cf['user_id'].value_counts()\n",
        "dataset_cf = dataset_cf[dataset_cf['user_id'].isin(user_counts[user_counts >= 5].index)]"
      ],
      "metadata": {
        "id": "voPbwk4eb844"
      },
      "execution_count": 33,
      "outputs": []
    },
    {
      "cell_type": "markdown",
      "source": [
        "### Stvaranje seta za treniranje i testiranje(65:35)\n"
      ],
      "metadata": {
        "id": "Bt1ah5mMgR0g"
      }
    },
    {
      "cell_type": "code",
      "source": [
        "# Split data\n",
        "def per_user_split(df, test_frac=0.2):\n",
        "    train, test = [], []\n",
        "    for user_id in df['user_id'].unique():\n",
        "        user_data = df[df['user_id'] == user_id]\n",
        "        n_test = max(1, int(len(user_data) * test_frac))\n",
        "        test_data = user_data.sample(n_test)\n",
        "        train_data = user_data.drop(test_data.index)\n",
        "        train.append(train_data)\n",
        "        test.append(test_data)\n",
        "    return pd.concat(train), pd.concat(test)\n",
        "\n",
        "train_cf, test_cf = per_user_split(dataset_cf[[\"user_id\", \"artist_id\", \"rating\"]], test_frac=0.35)"
      ],
      "metadata": {
        "id": "yKqZasgGpWRT"
      },
      "execution_count": 34,
      "outputs": []
    },
    {
      "cell_type": "markdown",
      "source": [
        "### Prilagodi podatke"
      ],
      "metadata": {
        "id": "6zceG24Mhs0O"
      }
    },
    {
      "cell_type": "code",
      "source": [
        "# Convert IDs to strings\n",
        "train_cf[\"user_id\"] = train_cf[\"user_id\"].astype(str)\n",
        "train_cf[\"artist_id\"] = train_cf[\"artist_id\"].astype(str)\n",
        "test_cf[\"user_id\"] = test_cf[\"user_id\"].astype(str)\n",
        "test_cf[\"artist_id\"] = test_cf[\"artist_id\"].astype(str)\n",
        "\n",
        "\n",
        "reader = Reader(rating_scale=(1, 5))\n",
        "train_data = Dataset.load_from_df(train_cf[[\"user_id\", \"artist_id\", \"rating\"]], reader)\n",
        "trainset = train_data.build_full_trainset()"
      ],
      "metadata": {
        "id": "vd3PLOK6gm_w"
      },
      "execution_count": 35,
      "outputs": []
    },
    {
      "cell_type": "markdown",
      "source": [
        "# 2. Definicija KNN modela i treniranje"
      ],
      "metadata": {
        "id": "Yr81BqH7h-ew"
      }
    },
    {
      "cell_type": "code",
      "source": [
        "# Train model\n",
        "algo = KNNWithMeans(k=15, sim_options={'name': 'cosine', 'user_based': False})\n",
        "algo.fit(trainset)"
      ],
      "metadata": {
        "colab": {
          "base_uri": "https://localhost:8080/"
        },
        "id": "TIKBax9xh7ZE",
        "outputId": "123a3434-af62-4681-d701-560b8038718b"
      },
      "execution_count": 36,
      "outputs": [
        {
          "output_type": "stream",
          "name": "stdout",
          "text": [
            "Computing the cosine similarity matrix...\n",
            "Done computing similarity matrix.\n"
          ]
        },
        {
          "output_type": "execute_result",
          "data": {
            "text/plain": [
              "<surprise.prediction_algorithms.knns.KNNWithMeans at 0x7c86c4e3a590>"
            ]
          },
          "metadata": {},
          "execution_count": 36
        }
      ]
    },
    {
      "cell_type": "markdown",
      "source": [
        "# 3. Testiranje"
      ],
      "metadata": {
        "id": "J3EerO76iIGu"
      }
    },
    {
      "cell_type": "code",
      "source": [
        "# Convert test_cf to Surprise-compatible testset\n",
        "testset = list(zip(\n",
        "    test_cf[\"user_id\"].values,\n",
        "    test_cf[\"artist_id\"].values,\n",
        "    test_cf[\"rating\"].values\n",
        "))\n",
        "\n",
        "# Generate predictions\n",
        "predictions = algo.test(testset)  # Now works!"
      ],
      "metadata": {
        "id": "4O6uo2rAtXeK"
      },
      "execution_count": 38,
      "outputs": []
    },
    {
      "cell_type": "markdown",
      "source": [
        "### Precision@k and RMSE"
      ],
      "metadata": {
        "id": "uczU1iUFr-8T"
      }
    },
    {
      "cell_type": "code",
      "source": [
        "# 1. Definiraj funkciju za Precision@k\n",
        "def precision_at_k(predictions, k=10, threshold=3.0):\n",
        "    \"\"\"\n",
        "    Računa Precision@k za liste predviđanja.\n",
        "\n",
        "    Args:\n",
        "        predictions: Surprise predictions lista (kroz algo.test())\n",
        "        k: Broj preporuka koje evaluiramo\n",
        "        threshold: Prag iznad kojeg smatramo da je stavka \"relevantna\"\n",
        "    \"\"\"\n",
        "    # Grupiraj predviđanja po korisniku\n",
        "    user_est_true = defaultdict(list)\n",
        "    for uid, _, true_r, est, _ in predictions:\n",
        "        user_est_true[uid].append((est, true_r))\n",
        "\n",
        "    precisions = []\n",
        "    for uid, user_ratings in user_est_true.items():\n",
        "        # Sortiraj predviđanja po procijenjenoj vrijednosti (silazno)\n",
        "        user_ratings.sort(key=lambda x: x[0], reverse=True)\n",
        "\n",
        "        # Broj relevantnih stavki u top-k\n",
        "        n_rel = sum((true_r >= threshold) for (_, true_r) in user_ratings[:k])\n",
        "\n",
        "        # Precision@k za ovog korisnika\n",
        "        precisions.append(n_rel / k)\n",
        "\n",
        "    return np.mean(precisions)"
      ],
      "metadata": {
        "id": "SYgeaKzIsCEB"
      },
      "execution_count": 39,
      "outputs": []
    },
    {
      "cell_type": "code",
      "source": [
        "print(\"\\nEvaluation Metrics:\")\n",
        "print(f\"RMSE: {accuracy.rmse(predictions, verbose=False):.4f}\")\n",
        "print(f\"Precision@5: {precision_at_k(predictions, k=5):.4f}\")\n",
        "print(f\"Precision@10: {precision_at_k(predictions, k=10):.4f}\")"
      ],
      "metadata": {
        "colab": {
          "base_uri": "https://localhost:8080/"
        },
        "id": "DiGbwxSdsFq_",
        "outputId": "0d36c5bc-91c1-4adc-e75c-aef471bd050c"
      },
      "execution_count": 40,
      "outputs": [
        {
          "output_type": "stream",
          "name": "stdout",
          "text": [
            "\n",
            "Evaluation Metrics:\n",
            "RMSE: 0.3780\n",
            "Precision@5: 0.2273\n",
            "Precision@10: 0.2079\n"
          ]
        }
      ]
    }
  ]
}