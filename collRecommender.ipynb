{
  "nbformat": 4,
  "nbformat_minor": 0,
  "metadata": {
    "colab": {
      "provenance": []
    },
    "kernelspec": {
      "name": "python3",
      "display_name": "Python 3"
    },
    "language_info": {
      "name": "python"
    }
  },
  "cells": [
    {
      "cell_type": "code",
      "source": [
        "# Prvo obrišite postojeće verzije ako postoje\n",
        "!pip uninstall numpy scikit-surprise -y\n",
        "\n",
        "# Instalirajte specifične verzije koje su kompatibilne\n",
        "!pip install \"numpy==1.26.4\" \"scipy<2.0\" \"joblib>=1.2.0\"\n",
        "\n",
        "# Instalirajte surprise bez dodatnih zavisnosti\n",
        "!pip install --no-deps scikit-surprise\n",
        "\n",
        "# Proverite instalaciju\n",
        "!pip show scikit-surprise"
      ],
      "metadata": {
        "colab": {
          "base_uri": "https://localhost:8080/",
          "height": 1000
        },
        "id": "caJmyr42YATZ",
        "outputId": "e3d924e6-ced3-49c1-a6a4-dfe8fe539586"
      },
      "execution_count": 2,
      "outputs": [
        {
          "output_type": "stream",
          "name": "stdout",
          "text": [
            "Found existing installation: numpy 2.0.2\n",
            "Uninstalling numpy-2.0.2:\n",
            "  Successfully uninstalled numpy-2.0.2\n",
            "\u001b[33mWARNING: Skipping scikit-surprise as it is not installed.\u001b[0m\u001b[33m\n",
            "\u001b[0mCollecting numpy==1.26.4\n",
            "  Downloading numpy-1.26.4-cp311-cp311-manylinux_2_17_x86_64.manylinux2014_x86_64.whl.metadata (61 kB)\n",
            "\u001b[2K     \u001b[90m━━━━━━━━━━━━━━━━━━━━━━━━━━━━━━━━━━━━━━━━\u001b[0m \u001b[32m61.0/61.0 kB\u001b[0m \u001b[31m3.5 MB/s\u001b[0m eta \u001b[36m0:00:00\u001b[0m\n",
            "\u001b[?25hRequirement already satisfied: scipy<2.0 in /usr/local/lib/python3.11/dist-packages (1.15.3)\n",
            "Requirement already satisfied: joblib>=1.2.0 in /usr/local/lib/python3.11/dist-packages (1.5.1)\n",
            "Downloading numpy-1.26.4-cp311-cp311-manylinux_2_17_x86_64.manylinux2014_x86_64.whl (18.3 MB)\n",
            "\u001b[2K   \u001b[90m━━━━━━━━━━━━━━━━━━━━━━━━━━━━━━━━━━━━━━━━\u001b[0m \u001b[32m18.3/18.3 MB\u001b[0m \u001b[31m72.3 MB/s\u001b[0m eta \u001b[36m0:00:00\u001b[0m\n",
            "\u001b[?25hInstalling collected packages: numpy\n",
            "\u001b[31mERROR: pip's dependency resolver does not currently take into account all the packages that are installed. This behaviour is the source of the following dependency conflicts.\n",
            "thinc 8.3.6 requires numpy<3.0.0,>=2.0.0, but you have numpy 1.26.4 which is incompatible.\u001b[0m\u001b[31m\n",
            "\u001b[0mSuccessfully installed numpy-1.26.4\n"
          ]
        },
        {
          "output_type": "display_data",
          "data": {
            "application/vnd.colab-display-data+json": {
              "pip_warning": {
                "packages": [
                  "numpy"
                ]
              },
              "id": "231569d7d8b648f89d87ca839512eab5"
            }
          },
          "metadata": {}
        },
        {
          "output_type": "stream",
          "name": "stdout",
          "text": [
            "Collecting scikit-surprise\n",
            "  Downloading scikit_surprise-1.1.4.tar.gz (154 kB)\n",
            "\u001b[?25l     \u001b[90m━━━━━━━━━━━━━━━━━━━━━━━━━━━━━━━━━━━━━━━━\u001b[0m \u001b[32m0.0/154.4 kB\u001b[0m \u001b[31m?\u001b[0m eta \u001b[36m-:--:--\u001b[0m\r\u001b[2K     \u001b[90m━━━━━━━━━━━━━━━━━━━━━━━━━━━━━━━━━━━━━━━\u001b[0m \u001b[32m154.4/154.4 kB\u001b[0m \u001b[31m5.5 MB/s\u001b[0m eta \u001b[36m0:00:00\u001b[0m\n",
            "\u001b[?25h  Installing build dependencies ... \u001b[?25l\u001b[?25hdone\n",
            "  Getting requirements to build wheel ... \u001b[?25l\u001b[?25hdone\n",
            "  Preparing metadata (pyproject.toml) ... \u001b[?25l\u001b[?25hdone\n",
            "Building wheels for collected packages: scikit-surprise\n",
            "  Building wheel for scikit-surprise (pyproject.toml) ... \u001b[?25l\u001b[?25hdone\n",
            "  Created wheel for scikit-surprise: filename=scikit_surprise-1.1.4-cp311-cp311-linux_x86_64.whl size=2469559 sha256=5462d01024a2d9bb2a853206e477e1ff340da9c26c1edfd20ef82c6e662c7239\n",
            "  Stored in directory: /root/.cache/pip/wheels/2a/8f/6e/7e2899163e2d85d8266daab4aa1cdabec7a6c56f83c015b5af\n",
            "Successfully built scikit-surprise\n",
            "Installing collected packages: scikit-surprise\n",
            "Successfully installed scikit-surprise-1.1.4\n",
            "Name: scikit-surprise\n",
            "Version: 1.1.4\n",
            "Summary: An easy-to-use library for recommender systems.\n",
            "Home-page: https://surpriselib.com\n",
            "Author: \n",
            "Author-email: Nicolas Hug <contact@nicolas-hug.com>\n",
            "License: Copyright (c) 2016, Nicolas Hug\n",
            "All rights reserved.\n",
            "\n",
            "Redistribution and use in source and binary forms, with or without\n",
            "modification, are permitted provided that the following conditions are met:\n",
            "\n",
            "1. Redistributions of source code must retain the above copyright notice, this\n",
            "   list of conditions and the following disclaimer.\n",
            "\n",
            "2. Redistributions in binary form must reproduce the above copyright notice,\n",
            "  this list of conditions and the following disclaimer in the documentation\n",
            "  and/or other materials provided with the distribution.\n",
            "\n",
            "3. Neither the name of the copyright holder nor the names of its contributors\n",
            "   may be used to endorse or promote products derived from this software\n",
            "   without specific prior written permission.\n",
            "\n",
            "THIS SOFTWARE IS PROVIDED BY THE COPYRIGHT HOLDERS AND CONTRIBUTORS \"AS IS\" AND\n",
            "ANY EXPRESS OR IMPLIED WARRANTIES, INCLUDING, BUT NOT LIMITED TO, THE IMPLIED\n",
            "WARRANTIES OF MERCHANTABILITY AND FITNESS FOR A PARTICULAR PURPOSE ARE\n",
            "DISCLAIMED. IN NO EVENT SHALL THE COPYRIGHT HOLDER OR CONTRIBUTORS BE LIABLE\n",
            "FOR ANY DIRECT, INDIRECT, INCIDENTAL, SPECIAL, EXEMPLARY, OR CONSEQUENTIAL\n",
            "DAMAGES (INCLUDING, BUT NOT LIMITED TO, PROCUREMENT OF SUBSTITUTE GOODS OR\n",
            "SERVICES; LOSS OF USE, DATA, OR PROFITS; OR BUSINESS INTERRUPTION) HOWEVER\n",
            "CAUSED AND ON ANY THEORY OF LIABILITY, WHETHER IN CONTRACT, STRICT LIABILITY,\n",
            "OR TORT (INCLUDING NEGLIGENCE OR OTHERWISE) ARISING IN ANY WAY OUT OF THE USE\n",
            "OF THIS SOFTWARE, EVEN IF ADVISED OF THE POSSIBILITY OF SUCH DAMAGE.\n",
            "\n",
            "Location: /usr/local/lib/python3.11/dist-packages\n",
            "Requires: joblib, numpy, scipy\n",
            "Required-by: \n"
          ]
        }
      ]
    },
    {
      "cell_type": "markdown",
      "source": [
        "## Učitaj potrebne libraryje"
      ],
      "metadata": {
        "id": "tefdZAUKZADL"
      }
    },
    {
      "cell_type": "code",
      "execution_count": 1,
      "metadata": {
        "id": "WwuTUfoYb2ey"
      },
      "outputs": [],
      "source": [
        "import pandas as pd\n",
        "import numpy as np\n",
        "\n",
        "from sklearn.model_selection import train_test_split\n",
        "from sklearn.preprocessing import MinMaxScaler\n",
        "\n",
        "from surprise import Dataset, Reader, KNNBasic\n",
        "from surprise.model_selection import train_test_split\n",
        "from surprise import accuracy\n",
        "from surprise import SVD, Dataset, Reader, accuracy\n",
        "from surprise import KNNWithMeans\n",
        "\n",
        "from collections import defaultdict\n"
      ]
    },
    {
      "cell_type": "markdown",
      "source": [
        "# 1. Učitavanje i priprema podataka"
      ],
      "metadata": {
        "id": "E2EQF-kKZY4-"
      }
    },
    {
      "cell_type": "markdown",
      "source": [
        "### Učitaj podatke"
      ],
      "metadata": {
        "id": "JnS0OL-Nf6LR"
      }
    },
    {
      "cell_type": "code",
      "source": [
        "# Load and prepare data\n",
        "dataset_cf = pd.read_csv('user_artists.dat', sep='\\t')\n",
        "dataset_cf.columns = ['user_id', 'artist_id', 'plays']"
      ],
      "metadata": {
        "id": "xJxALIHxtCvz"
      },
      "execution_count": 3,
      "outputs": []
    },
    {
      "cell_type": "markdown",
      "source": [
        "### Transformacije podataka"
      ],
      "metadata": {
        "id": "IjjQD0bHZKw1"
      }
    },
    {
      "cell_type": "code",
      "source": [
        "# 1. Log transformation\n",
        "dataset_cf[\"log_plays\"] = np.log1p(dataset_cf[\"plays\"])\n",
        "\n",
        "# 2. Scale to 1-5 range\n",
        "scaler = MinMaxScaler(feature_range=(1, 5))\n",
        "dataset_cf[\"rating\"] = scaler.fit_transform(dataset_cf[[\"log_plays\"]])\n",
        "\n",
        "# 3. Filter inactive users\n",
        "user_counts = dataset_cf['user_id'].value_counts()\n",
        "dataset_cf = dataset_cf[dataset_cf['user_id'].isin(user_counts[user_counts >= 8].index)]"
      ],
      "metadata": {
        "id": "voPbwk4eb844"
      },
      "execution_count": 4,
      "outputs": []
    },
    {
      "cell_type": "markdown",
      "source": [
        "### Stvaranje seta za treniranje i testiranje(65:35)\n"
      ],
      "metadata": {
        "id": "Bt1ah5mMgR0g"
      }
    },
    {
      "cell_type": "code",
      "source": [
        "# Split data\n",
        "def per_user_split(df, test_frac=0.35):\n",
        "    train, test = [], []\n",
        "    for user_id in df['user_id'].unique():\n",
        "        user_data = df[df['user_id'] == user_id]\n",
        "        n_test = max(1, int(len(user_data) * test_frac))\n",
        "        test_data = user_data.sample(n_test)\n",
        "        train_data = user_data.drop(test_data.index)\n",
        "        train.append(train_data)\n",
        "        test.append(test_data)\n",
        "    return pd.concat(train), pd.concat(test)\n",
        "\n",
        "train_cf, test_cf = per_user_split(dataset_cf[[\"user_id\", \"artist_id\", \"rating\"]], test_frac=0.35)"
      ],
      "metadata": {
        "id": "yKqZasgGpWRT"
      },
      "execution_count": 5,
      "outputs": []
    },
    {
      "cell_type": "markdown",
      "source": [
        "### Prilagodi podatke"
      ],
      "metadata": {
        "id": "6zceG24Mhs0O"
      }
    },
    {
      "cell_type": "code",
      "source": [
        "# Convert IDs to strings\n",
        "train_cf[\"user_id\"] = train_cf[\"user_id\"].astype(str)\n",
        "train_cf[\"artist_id\"] = train_cf[\"artist_id\"].astype(str)\n",
        "test_cf[\"user_id\"] = test_cf[\"user_id\"].astype(str)\n",
        "test_cf[\"artist_id\"] = test_cf[\"artist_id\"].astype(str)\n",
        "\n",
        "\n",
        "reader = Reader(rating_scale=(1, 5))\n",
        "train_data = Dataset.load_from_df(train_cf[[\"user_id\", \"artist_id\", \"rating\"]], reader)\n",
        "trainset = train_data.build_full_trainset()"
      ],
      "metadata": {
        "id": "vd3PLOK6gm_w"
      },
      "execution_count": 6,
      "outputs": []
    },
    {
      "cell_type": "markdown",
      "source": [
        "# 2. Definicija KNN modela i treniranje"
      ],
      "metadata": {
        "id": "Yr81BqH7h-ew"
      }
    },
    {
      "cell_type": "code",
      "source": [
        "# Train model\n",
        "algo = KNNWithMeans(k=50, sim_options={'name': 'pearson', 'user_based': False})\n",
        "algo.fit(trainset)"
      ],
      "metadata": {
        "colab": {
          "base_uri": "https://localhost:8080/"
        },
        "id": "TIKBax9xh7ZE",
        "outputId": "383dbf2a-683d-4fc6-bd1c-753188929d45"
      },
      "execution_count": 7,
      "outputs": [
        {
          "output_type": "stream",
          "name": "stdout",
          "text": [
            "Computing the pearson similarity matrix...\n",
            "Done computing similarity matrix.\n"
          ]
        },
        {
          "output_type": "execute_result",
          "data": {
            "text/plain": [
              "<surprise.prediction_algorithms.knns.KNNWithMeans at 0x7d1f1f380750>"
            ]
          },
          "metadata": {},
          "execution_count": 7
        }
      ]
    },
    {
      "cell_type": "markdown",
      "source": [
        "# 3. Testiranje"
      ],
      "metadata": {
        "id": "J3EerO76iIGu"
      }
    },
    {
      "cell_type": "code",
      "source": [
        "# Convert test_cf to Surprise-compatible testset\n",
        "testset = list(zip(\n",
        "    test_cf[\"user_id\"].values,\n",
        "    test_cf[\"artist_id\"].values,\n",
        "    test_cf[\"rating\"].values\n",
        "))\n",
        "\n",
        "# Generate predictions\n",
        "predictions = algo.test(testset)"
      ],
      "metadata": {
        "id": "4O6uo2rAtXeK"
      },
      "execution_count": 8,
      "outputs": []
    },
    {
      "cell_type": "markdown",
      "source": [
        "### Precision@k and RMSE"
      ],
      "metadata": {
        "id": "uczU1iUFr-8T"
      }
    },
    {
      "cell_type": "code",
      "source": [
        "def precision_at_k(predictions, k=10, threshold=3.0):\n",
        "    user_est_true = defaultdict(list)\n",
        "    for uid, _, true_r, est, _ in predictions:\n",
        "        user_est_true[uid].append((est, true_r))\n",
        "\n",
        "    precisions = []\n",
        "    for uid, user_ratings in user_est_true.items():\n",
        "        # Sortiraj predviđanja po procijenjenoj vrijednosti (silazno)\n",
        "        user_ratings.sort(key=lambda x: x[0], reverse=True)\n",
        "\n",
        "        # Broj relevantnih stavki u top-k\n",
        "        n_rel = sum((true_r >= threshold) for (_, true_r) in user_ratings[:k])\n",
        "\n",
        "        # Precision@k za ovog korisnika\n",
        "        precisions.append(n_rel / k)\n",
        "\n",
        "    return np.mean(precisions)"
      ],
      "metadata": {
        "id": "SYgeaKzIsCEB"
      },
      "execution_count": 9,
      "outputs": []
    },
    {
      "cell_type": "code",
      "source": [
        "def recall_at_k(predictions, k=10, threshold=3.0):\n",
        "    \"\"\"Izračunava Recall@k - koliko relevantnih stavki je preporučeno\"\"\"\n",
        "    user_est_true = defaultdict(list)\n",
        "    for uid, _, true_r, est, _ in predictions:\n",
        "        user_est_true[uid].append((est, true_r))\n",
        "\n",
        "    recalls = []\n",
        "    for uid, user_ratings in user_est_true.items():\n",
        "        # Sortiraj predviđanja po procijenjenoj vrijednosti\n",
        "        user_ratings.sort(key=lambda x: x[0], reverse=True)\n",
        "\n",
        "        # Broj relevantnih stavki za korisnika (ground truth)\n",
        "        n_rel = sum((true_r >= threshold) for (_, true_r) in user_ratings)\n",
        "\n",
        "        if n_rel == 0:  # Ako nema relevantnih, preskoči\n",
        "            continue\n",
        "\n",
        "        # Broj relevantnih u top-k preporuka\n",
        "        n_rel_and_rec_k = sum((true_r >= threshold) for (_, true_r) in user_ratings[:k])\n",
        "\n",
        "        recalls.append(n_rel_and_rec_k / n_rel)\n",
        "\n",
        "    return np.mean(recalls) if recalls else 0.0"
      ],
      "metadata": {
        "id": "pVksvD4CQ6BB"
      },
      "execution_count": 10,
      "outputs": []
    },
    {
      "cell_type": "code",
      "source": [
        "# Ažurirana evaluaciona funkcija\n",
        "def evaluate_model(predictions, k_values=[5, 10], threshold=3.0):\n",
        "    \"\"\"Evaluacija sa Precision@k i Recall@k\"\"\"\n",
        "    results = {}\n",
        "\n",
        "    # RMSE\n",
        "    results['RMSE'] = accuracy.rmse(predictions, verbose=False)\n",
        "\n",
        "    for k in k_values:\n",
        "        # Precision\n",
        "        precision = precision_at_k(predictions, k=k, threshold=threshold)\n",
        "        results[f'P@{k}'] = precision\n",
        "\n",
        "        # Recall\n",
        "        recall = recall_at_k(predictions, k=k, threshold=threshold)\n",
        "        results[f'R@{k}'] = recall\n",
        "\n",
        "    return results\n",
        "\n",
        "# Pokreni evaluaciju\n",
        "print(\"\\nEvaluation Metrics:\")\n",
        "eval_results = evaluate_model(predictions, k_values=[5, 10])\n",
        "\n",
        "# Prikaz rezultata\n",
        "print(f\"RMSE: {eval_results['RMSE']:.4f}\")\n",
        "print(f\"Precision@5: {eval_results['P@5']:.4f} | Recall@5: {eval_results['R@5']:.4f} \")\n",
        "print(f\"Precision@10: {eval_results['P@10']:.4f} | Recall@10: {eval_results['R@10']:.4f} \")"
      ],
      "metadata": {
        "colab": {
          "base_uri": "https://localhost:8080/"
        },
        "id": "DiGbwxSdsFq_",
        "outputId": "57f63b2d-a6cf-4ef4-81b3-c075256e6a72"
      },
      "execution_count": 11,
      "outputs": [
        {
          "output_type": "stream",
          "name": "stdout",
          "text": [
            "\n",
            "Evaluation Metrics:\n",
            "RMSE: 0.4090\n",
            "Precision@5: 0.2321 | Recall@5: 0.4221 \n",
            "Precision@10: 0.2090 | Recall@10: 0.7135 \n"
          ]
        }
      ]
    }
  ]
}